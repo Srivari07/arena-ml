{
 "cells": [
  {
   "cell_type": "code",
   "execution_count": 23,
   "id": "a699a50f",
   "metadata": {},
   "outputs": [],
   "source": [
    "import requests\n",
    "import pandas as pd\n",
    "import json\n",
    "import matplotlib.pyplot as plt\n",
    "%matplotlib inline\n",
    "import numpy as np"
   ]
  },
  {
   "cell_type": "code",
   "execution_count": 8,
   "id": "54299419",
   "metadata": {},
   "outputs": [],
   "source": [
    "url=\"http://arena.siesgst.ac.in/api/user?username=vipul-08\""
   ]
  },
  {
   "cell_type": "code",
   "execution_count": 9,
   "id": "08f687fc",
   "metadata": {},
   "outputs": [],
   "source": [
    "headers={\"Accept\" : \"application/vnd.arena+json;version=1\"}"
   ]
  },
  {
   "cell_type": "code",
   "execution_count": 10,
   "id": "d0a74ab4",
   "metadata": {},
   "outputs": [],
   "source": [
    "r=requests.get(url,headers=headers)"
   ]
  },
  {
   "cell_type": "code",
   "execution_count": 11,
   "id": "1dfc3524",
   "metadata": {},
   "outputs": [
    {
     "name": "stdout",
     "output_type": "stream",
     "text": [
      "<Response [200]>\n"
     ]
    }
   ],
   "source": [
    "print(r)"
   ]
  },
  {
   "cell_type": "code",
   "execution_count": 12,
   "id": "1a1ec852",
   "metadata": {},
   "outputs": [
    {
     "data": {
      "text/plain": [
       "{'_id': '5b5d756b37392f89933e7515',\n",
       " 'name': 'Vipul Singh Raghuvanshi',\n",
       " 'username': 'vipul-08',\n",
       " 'email': 'singh.vipul15@siesgst.ac.in',\n",
       " 'about': 'Code Blooded',\n",
       " 'ratings': 1605,\n",
       " 'codeforcesLink': 'code_updates',\n",
       " 'githubLink': 'vipul-08',\n",
       " 'codechefLink': 'code_updates',\n",
       " 'rantingChange': [{'contestCode': 'SRM01', 'ratings': 1338},\n",
       "  {'contestCode': 'SEPT18', 'ratings': 1458},\n",
       "  {'contestCode': 'SRM04', 'ratings': 1510},\n",
       "  {'contestCode': 'SRM06', 'ratings': 1547},\n",
       "  {'contestCode': 'SRM07', 'ratings': 1556},\n",
       "  {'contestCode': 'SRM08', 'ratings': 1588},\n",
       "  {'contestCode': 'SRM09', 'ratings': 1566},\n",
       "  {'contestCode': 'SRM10', 'ratings': 1584},\n",
       "  {'contestCode': 'SRM11', 'ratings': 1600},\n",
       "  {'contestCode': 'SRM12', 'ratings': 1591},\n",
       "  {'contestCode': 'SRM13', 'ratings': 1592},\n",
       "  {'contestCode': 'SRM15', 'ratings': 1569},\n",
       "  {'contestCode': 'SRM16', 'ratings': 1569},\n",
       "  {'contestCode': 'GBYE20', 'ratings': 1589},\n",
       "  {'contestCode': 'SRM17', 'ratings': 1571},\n",
       "  {'contestCode': 'APR21', 'ratings': 1605}],\n",
       " 'submissionStats': {'accepted': 95,\n",
       "  'wrongAnswer': 92,\n",
       "  'compilationError': 4,\n",
       "  'runtimeError': 34,\n",
       "  'timeLimitExceeded': 30}}"
      ]
     },
     "execution_count": 12,
     "metadata": {},
     "output_type": "execute_result"
    }
   ],
   "source": [
    "r.json()"
   ]
  },
  {
   "cell_type": "code",
   "execution_count": 13,
   "id": "eba42413",
   "metadata": {},
   "outputs": [
    {
     "name": "stdout",
     "output_type": "stream",
     "text": [
      "{'_id': '5b5d756b37392f89933e7515', 'name': 'Vipul Singh Raghuvanshi', 'username': 'vipul-08', 'email': 'singh.vipul15@siesgst.ac.in', 'about': 'Code Blooded', 'ratings': 1605, 'codeforcesLink': 'code_updates', 'githubLink': 'vipul-08', 'codechefLink': 'code_updates', 'rantingChange': [{'contestCode': 'SRM01', 'ratings': 1338}, {'contestCode': 'SEPT18', 'ratings': 1458}, {'contestCode': 'SRM04', 'ratings': 1510}, {'contestCode': 'SRM06', 'ratings': 1547}, {'contestCode': 'SRM07', 'ratings': 1556}, {'contestCode': 'SRM08', 'ratings': 1588}, {'contestCode': 'SRM09', 'ratings': 1566}, {'contestCode': 'SRM10', 'ratings': 1584}, {'contestCode': 'SRM11', 'ratings': 1600}, {'contestCode': 'SRM12', 'ratings': 1591}, {'contestCode': 'SRM13', 'ratings': 1592}, {'contestCode': 'SRM15', 'ratings': 1569}, {'contestCode': 'SRM16', 'ratings': 1569}, {'contestCode': 'GBYE20', 'ratings': 1589}, {'contestCode': 'SRM17', 'ratings': 1571}, {'contestCode': 'APR21', 'ratings': 1605}], 'submissionStats': {'accepted': 95, 'wrongAnswer': 92, 'compilationError': 4, 'runtimeError': 34, 'timeLimitExceeded': 30}}\n"
     ]
    }
   ],
   "source": [
    "jsonData=r.json()\n",
    "print(jsonData)"
   ]
  },
  {
   "cell_type": "code",
   "execution_count": 16,
   "id": "1f1d8341",
   "metadata": {
    "scrolled": true
   },
   "outputs": [
    {
     "name": "stdout",
     "output_type": "stream",
     "text": [
      "{\n",
      "  \"_id\": \"5b5d756b37392f89933e7515\",\n",
      "  \"name\": \"Vipul Singh Raghuvanshi\",\n",
      "  \"username\": \"vipul-08\",\n",
      "  \"email\": \"singh.vipul15@siesgst.ac.in\",\n",
      "  \"about\": \"Code Blooded\",\n",
      "  \"ratings\": 1605,\n",
      "  \"codeforcesLink\": \"code_updates\",\n",
      "  \"githubLink\": \"vipul-08\",\n",
      "  \"codechefLink\": \"code_updates\",\n",
      "  \"rantingChange\": [\n",
      "    {\n",
      "      \"contestCode\": \"SRM01\",\n",
      "      \"ratings\": 1338\n",
      "    },\n",
      "    {\n",
      "      \"contestCode\": \"SEPT18\",\n",
      "      \"ratings\": 1458\n",
      "    },\n",
      "    {\n",
      "      \"contestCode\": \"SRM04\",\n",
      "      \"ratings\": 1510\n",
      "    },\n",
      "    {\n",
      "      \"contestCode\": \"SRM06\",\n",
      "      \"ratings\": 1547\n",
      "    },\n",
      "    {\n",
      "      \"contestCode\": \"SRM07\",\n",
      "      \"ratings\": 1556\n",
      "    },\n",
      "    {\n",
      "      \"contestCode\": \"SRM08\",\n",
      "      \"ratings\": 1588\n",
      "    },\n",
      "    {\n",
      "      \"contestCode\": \"SRM09\",\n",
      "      \"ratings\": 1566\n",
      "    },\n",
      "    {\n",
      "      \"contestCode\": \"SRM10\",\n",
      "      \"ratings\": 1584\n",
      "    },\n",
      "    {\n",
      "      \"contestCode\": \"SRM11\",\n",
      "      \"ratings\": 1600\n",
      "    },\n",
      "    {\n",
      "      \"contestCode\": \"SRM12\",\n",
      "      \"ratings\": 1591\n",
      "    },\n",
      "    {\n",
      "      \"contestCode\": \"SRM13\",\n",
      "      \"ratings\": 1592\n",
      "    },\n",
      "    {\n",
      "      \"contestCode\": \"SRM15\",\n",
      "      \"ratings\": 1569\n",
      "    },\n",
      "    {\n",
      "      \"contestCode\": \"SRM16\",\n",
      "      \"ratings\": 1569\n",
      "    },\n",
      "    {\n",
      "      \"contestCode\": \"GBYE20\",\n",
      "      \"ratings\": 1589\n",
      "    },\n",
      "    {\n",
      "      \"contestCode\": \"SRM17\",\n",
      "      \"ratings\": 1571\n",
      "    },\n",
      "    {\n",
      "      \"contestCode\": \"APR21\",\n",
      "      \"ratings\": 1605\n",
      "    }\n",
      "  ],\n",
      "  \"submissionStats\": {\n",
      "    \"accepted\": 95,\n",
      "    \"wrongAnswer\": 92,\n",
      "    \"compilationError\": 4,\n",
      "    \"runtimeError\": 34,\n",
      "    \"timeLimitExceeded\": 30\n",
      "  }\n",
      "}\n"
     ]
    }
   ],
   "source": [
    "jsonDataStr=json.dumps(jsonData,indent=2)\n",
    "print(jsonDataStr)"
   ]
  },
  {
   "cell_type": "code",
   "execution_count": 17,
   "id": "f69efec4",
   "metadata": {},
   "outputs": [
    {
     "name": "stdout",
     "output_type": "stream",
     "text": [
      "{'accepted': 95, 'wrongAnswer': 92, 'compilationError': 4, 'runtimeError': 34, 'timeLimitExceeded': 30}\n"
     ]
    }
   ],
   "source": [
    "UserSubmissionStats=jsonData[\"submissionStats\"]\n",
    "print(UserSubmissionStats)"
   ]
  },
  {
   "cell_type": "code",
   "execution_count": 22,
   "id": "77fe3f04",
   "metadata": {},
   "outputs": [
    {
     "data": {
      "text/html": [
       "<div>\n",
       "<style scoped>\n",
       "    .dataframe tbody tr th:only-of-type {\n",
       "        vertical-align: middle;\n",
       "    }\n",
       "\n",
       "    .dataframe tbody tr th {\n",
       "        vertical-align: top;\n",
       "    }\n",
       "\n",
       "    .dataframe thead th {\n",
       "        text-align: right;\n",
       "    }\n",
       "</style>\n",
       "<table border=\"1\" class=\"dataframe\">\n",
       "  <thead>\n",
       "    <tr style=\"text-align: right;\">\n",
       "      <th></th>\n",
       "      <th>accepted</th>\n",
       "      <th>wrongAnswer</th>\n",
       "      <th>compilationError</th>\n",
       "      <th>runtimeError</th>\n",
       "      <th>timeLimitExceeded</th>\n",
       "    </tr>\n",
       "  </thead>\n",
       "  <tbody>\n",
       "    <tr>\n",
       "      <th>0</th>\n",
       "      <td>95</td>\n",
       "      <td>92</td>\n",
       "      <td>4</td>\n",
       "      <td>34</td>\n",
       "      <td>30</td>\n",
       "    </tr>\n",
       "  </tbody>\n",
       "</table>\n",
       "</div>"
      ],
      "text/plain": [
       "   accepted  wrongAnswer  compilationError  runtimeError  timeLimitExceeded\n",
       "0        95           92                 4            34                 30"
      ]
     },
     "execution_count": 22,
     "metadata": {},
     "output_type": "execute_result"
    }
   ],
   "source": [
    "df_submissionStats=pd.json_normalize(UserSubmissionStats)\n",
    "df_submissionStats"
   ]
  },
  {
   "cell_type": "code",
   "execution_count": 34,
   "id": "93c7c0e9",
   "metadata": {},
   "outputs": [
    {
     "data": {
      "image/png": "[encoded data removed]",
      "text/plain": [
       "<Figure size 1080x720 with 1 Axes>"
      ]
     },
     "metadata": {},
     "output_type": "display_data"
    }
   ],
   "source": [
    "values=[95,92,4,34,30]\n",
    "labels=[\"accepted\",\"wrongAnswer\",\"compilationError\",\"runtimeError\",\"timeLimitExceeded\"]\n",
    "plt.figure(figsize=(15,10))\n",
    "plt.pie(values,labels=labels,startangle=90,autopct='%1.1f%%')\n",
    "plt.show()"
   ]
  },
  {
   "cell_type": "code",
   "execution_count": null,
   "id": "71c5469f",
   "metadata": {},
   "outputs": [],
   "source": []
  }
 ],
 "metadata": {
  "kernelspec": {
   "display_name": "Python 3 (ipykernel)",
   "language": "python",
   "name": "python3"
  },
  "language_info": {
   "codemirror_mode": {
    "name": "ipython",
    "version": 3
   },
   "file_extension": ".py",
   "mimetype": "text/x-python",
   "name": "python",
   "nbconvert_exporter": "python",
   "pygments_lexer": "ipython3",
   "version": "3.9.7"
  }
 },
 "nbformat": 4,
 "nbformat_minor": 5
}
