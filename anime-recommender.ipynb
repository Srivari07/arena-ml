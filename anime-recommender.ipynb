{
 "cells": [
  {
   "cell_type": "markdown",
   "id": "76ae44b8",
   "metadata": {
    "papermill": {
     "duration": 0.021577,
     "end_time": "2021-10-15T13:00:42.553720",
     "exception": false,
     "start_time": "2021-10-15T13:00:42.532143",
     "status": "completed"
    },
    "tags": []
   },
   "source": [
    "## Installing Dependencies"
   ]
  },
  {
   "cell_type": "code",
   "execution_count": 1,
   "id": "4ca6d1dc",
   "metadata": {
    "execution": {
     "iopub.execute_input": "2021-10-15T13:00:42.598451Z",
     "iopub.status.busy": "2021-10-15T13:00:42.597003Z",
     "iopub.status.idle": "2021-10-15T13:00:51.092029Z",
     "shell.execute_reply": "2021-10-15T13:00:51.091383Z",
     "shell.execute_reply.started": "2021-10-15T12:47:18.990693Z"
    },
    "papermill": {
     "duration": 8.518204,
     "end_time": "2021-10-15T13:00:51.092197",
     "exception": false,
     "start_time": "2021-10-15T13:00:42.573993",
     "status": "completed"
    },
    "scrolled": true,
    "tags": []
   },
   "outputs": [
    {
     "name": "stdout",
     "output_type": "stream",
     "text": [
      "Collecting surprise\r\n",
      "  Downloading surprise-0.1-py2.py3-none-any.whl (1.8 kB)\r\n",
      "Requirement already satisfied: scikit-surprise in /opt/conda/lib/python3.7/site-packages (from surprise) (1.1.1)\r\n",
      "Requirement already satisfied: scipy>=1.0.0 in /opt/conda/lib/python3.7/site-packages (from scikit-surprise->surprise) (1.7.1)\r\n",
      "Requirement already satisfied: six>=1.10.0 in /opt/conda/lib/python3.7/site-packages (from scikit-surprise->surprise) (1.15.0)\r\n",
      "Requirement already satisfied: joblib>=0.11 in /opt/conda/lib/python3.7/site-packages (from scikit-surprise->surprise) (1.0.1)\r\n",
      "Requirement already satisfied: numpy>=1.11.2 in /opt/conda/lib/python3.7/site-packages (from scikit-surprise->surprise) (1.19.5)\r\n",
      "Installing collected packages: surprise\r\n",
      "Successfully installed surprise-0.1\r\n",
      "\u001b[33mWARNING: Running pip as the 'root' user can result in broken permissions and conflicting behaviour with the system package manager. It is recommended to use a virtual environment instead: https://pip.pypa.io/warnings/venv\u001b[0m\r\n"
     ]
    }
   ],
   "source": [
    "!pip install surprise"
   ]
  },
  {
   "cell_type": "markdown",
   "id": "17730b39",
   "metadata": {
    "papermill": {
     "duration": 0.022164,
     "end_time": "2021-10-15T13:00:51.136409",
     "exception": false,
     "start_time": "2021-10-15T13:00:51.114245",
     "status": "completed"
    },
    "tags": []
   },
   "source": [
    "## Importing Libraries"
   ]
  },
  {
   "cell_type": "code",
   "execution_count": 2,
   "id": "781921e0",
   "metadata": {
    "_cell_guid": "b1076dfc-b9ad-4769-8c92-a6c4dae69d19",
    "_uuid": "8f2839f25d086af736a60e9eeb907d3b93b6e0e5",
    "execution": {
     "iopub.execute_input": "2021-10-15T13:00:51.188089Z",
     "iopub.status.busy": "2021-10-15T13:00:51.187499Z",
     "iopub.status.idle": "2021-10-15T13:00:52.003226Z",
     "shell.execute_reply": "2021-10-15T13:00:52.002649Z",
     "shell.execute_reply.started": "2021-10-15T12:47:27.824922Z"
    },
    "papermill": {
     "duration": 0.845736,
     "end_time": "2021-10-15T13:00:52.003378",
     "exception": false,
     "start_time": "2021-10-15T13:00:51.157642",
     "status": "completed"
    },
    "tags": []
   },
   "outputs": [],
   "source": [
    "%matplotlib inline\n",
    "import pandas as pd\n",
    "import numpy as np\n",
    "import matplotlib.pyplot as plt\n",
    "from scipy.sparse import csr_matrix\n",
    "from sklearn.feature_extraction.text import TfidfVectorizer, CountVectorizer\n",
    "from sklearn.metrics.pairwise import linear_kernel, cosine_similarity\n",
    "from surprise import Reader, Dataset, SVD\n",
    "from surprise.model_selection import cross_validate\n",
    "\n",
    "import warnings; warnings.simplefilter('ignore')"
   ]
  },
  {
   "cell_type": "code",
   "execution_count": 3,
   "id": "f7041184",
   "metadata": {
    "execution": {
     "iopub.execute_input": "2021-10-15T13:00:52.051548Z",
     "iopub.status.busy": "2021-10-15T13:00:52.050915Z",
     "iopub.status.idle": "2021-10-15T13:00:55.104663Z",
     "shell.execute_reply": "2021-10-15T13:00:55.103738Z",
     "shell.execute_reply.started": "2021-10-15T12:47:28.589086Z"
    },
    "papermill": {
     "duration": 3.079572,
     "end_time": "2021-10-15T13:00:55.104803",
     "exception": false,
     "start_time": "2021-10-15T13:00:52.025231",
     "status": "completed"
    },
    "tags": []
   },
   "outputs": [],
   "source": [
    "anime_info_df = pd.read_csv('../input/anime-recommendation-database-2020/anime.csv')\n",
    "anime_desc_df = pd.read_csv('../input/anime-recommendation-database-2020/anime_with_synopsis.csv')\n",
    "rating_df = pd.read_csv('../input/anime-recommendations-database/rating.csv')"
   ]
  },
  {
   "cell_type": "code",
   "execution_count": 4,
   "id": "ebad01b2",
   "metadata": {
    "execution": {
     "iopub.execute_input": "2021-10-15T13:00:55.162168Z",
     "iopub.status.busy": "2021-10-15T13:00:55.161280Z",
     "iopub.status.idle": "2021-10-15T13:00:55.186141Z",
     "shell.execute_reply": "2021-10-15T13:00:55.186545Z",
     "shell.execute_reply.started": "2021-10-15T12:47:31.679477Z"
    },
    "papermill": {
     "duration": 0.060641,
     "end_time": "2021-10-15T13:00:55.186684",
     "exception": false,
     "start_time": "2021-10-15T13:00:55.126043",
     "status": "completed"
    },
    "tags": []
   },
   "outputs": [
    {
     "data": {
      "text/html": [
       "<div>\n",
       "<style scoped>\n",
       "    .dataframe tbody tr th:only-of-type {\n",
       "        vertical-align: middle;\n",
       "    }\n",
       "\n",
       "    .dataframe tbody tr th {\n",
       "        vertical-align: top;\n",
       "    }\n",
       "\n",
       "    .dataframe thead th {\n",
       "        text-align: right;\n",
       "    }\n",
       "</style>\n",
       "<table border=\"1\" class=\"dataframe\">\n",
       "  <thead>\n",
       "    <tr style=\"text-align: right;\">\n",
       "      <th></th>\n",
       "      <th>MAL_ID</th>\n",
       "      <th>Name</th>\n",
       "      <th>Score</th>\n",
       "      <th>Genres</th>\n",
       "      <th>English name</th>\n",
       "      <th>Japanese name</th>\n",
       "      <th>Type</th>\n",
       "      <th>Episodes</th>\n",
       "      <th>Aired</th>\n",
       "      <th>Premiered</th>\n",
       "      <th>...</th>\n",
       "      <th>Score-10</th>\n",
       "      <th>Score-9</th>\n",
       "      <th>Score-8</th>\n",
       "      <th>Score-7</th>\n",
       "      <th>Score-6</th>\n",
       "      <th>Score-5</th>\n",
       "      <th>Score-4</th>\n",
       "      <th>Score-3</th>\n",
       "      <th>Score-2</th>\n",
       "      <th>Score-1</th>\n",
       "    </tr>\n",
       "  </thead>\n",
       "  <tbody>\n",
       "    <tr>\n",
       "      <th>0</th>\n",
       "      <td>1</td>\n",
       "      <td>Cowboy Bebop</td>\n",
       "      <td>8.78</td>\n",
       "      <td>Action, Adventure, Comedy, Drama, Sci-Fi, Space</td>\n",
       "      <td>Cowboy Bebop</td>\n",
       "      <td>カウボーイビバップ</td>\n",
       "      <td>TV</td>\n",
       "      <td>26</td>\n",
       "      <td>Apr 3, 1998 to Apr 24, 1999</td>\n",
       "      <td>Spring 1998</td>\n",
       "      <td>...</td>\n",
       "      <td>229170.0</td>\n",
       "      <td>182126.0</td>\n",
       "      <td>131625.0</td>\n",
       "      <td>62330.0</td>\n",
       "      <td>20688.0</td>\n",
       "      <td>8904.0</td>\n",
       "      <td>3184.0</td>\n",
       "      <td>1357.0</td>\n",
       "      <td>741.0</td>\n",
       "      <td>1580.0</td>\n",
       "    </tr>\n",
       "    <tr>\n",
       "      <th>1</th>\n",
       "      <td>5</td>\n",
       "      <td>Cowboy Bebop: Tengoku no Tobira</td>\n",
       "      <td>8.39</td>\n",
       "      <td>Action, Drama, Mystery, Sci-Fi, Space</td>\n",
       "      <td>Cowboy Bebop:The Movie</td>\n",
       "      <td>カウボーイビバップ 天国の扉</td>\n",
       "      <td>Movie</td>\n",
       "      <td>1</td>\n",
       "      <td>Sep 1, 2001</td>\n",
       "      <td>Unknown</td>\n",
       "      <td>...</td>\n",
       "      <td>30043.0</td>\n",
       "      <td>49201.0</td>\n",
       "      <td>49505.0</td>\n",
       "      <td>22632.0</td>\n",
       "      <td>5805.0</td>\n",
       "      <td>1877.0</td>\n",
       "      <td>577.0</td>\n",
       "      <td>221.0</td>\n",
       "      <td>109.0</td>\n",
       "      <td>379.0</td>\n",
       "    </tr>\n",
       "    <tr>\n",
       "      <th>2</th>\n",
       "      <td>6</td>\n",
       "      <td>Trigun</td>\n",
       "      <td>8.24</td>\n",
       "      <td>Action, Sci-Fi, Adventure, Comedy, Drama, Shounen</td>\n",
       "      <td>Trigun</td>\n",
       "      <td>トライガン</td>\n",
       "      <td>TV</td>\n",
       "      <td>26</td>\n",
       "      <td>Apr 1, 1998 to Sep 30, 1998</td>\n",
       "      <td>Spring 1998</td>\n",
       "      <td>...</td>\n",
       "      <td>50229.0</td>\n",
       "      <td>75651.0</td>\n",
       "      <td>86142.0</td>\n",
       "      <td>49432.0</td>\n",
       "      <td>15376.0</td>\n",
       "      <td>5838.0</td>\n",
       "      <td>1965.0</td>\n",
       "      <td>664.0</td>\n",
       "      <td>316.0</td>\n",
       "      <td>533.0</td>\n",
       "    </tr>\n",
       "    <tr>\n",
       "      <th>3</th>\n",
       "      <td>7</td>\n",
       "      <td>Witch Hunter Robin</td>\n",
       "      <td>7.27</td>\n",
       "      <td>Action, Mystery, Police, Supernatural, Drama, ...</td>\n",
       "      <td>Witch Hunter Robin</td>\n",
       "      <td>Witch Hunter ROBIN (ウイッチハンターロビン)</td>\n",
       "      <td>TV</td>\n",
       "      <td>26</td>\n",
       "      <td>Jul 2, 2002 to Dec 24, 2002</td>\n",
       "      <td>Summer 2002</td>\n",
       "      <td>...</td>\n",
       "      <td>2182.0</td>\n",
       "      <td>4806.0</td>\n",
       "      <td>10128.0</td>\n",
       "      <td>11618.0</td>\n",
       "      <td>5709.0</td>\n",
       "      <td>2920.0</td>\n",
       "      <td>1083.0</td>\n",
       "      <td>353.0</td>\n",
       "      <td>164.0</td>\n",
       "      <td>131.0</td>\n",
       "    </tr>\n",
       "    <tr>\n",
       "      <th>4</th>\n",
       "      <td>8</td>\n",
       "      <td>Bouken Ou Beet</td>\n",
       "      <td>6.98</td>\n",
       "      <td>Adventure, Fantasy, Shounen, Supernatural</td>\n",
       "      <td>Beet the Vandel Buster</td>\n",
       "      <td>冒険王ビィト</td>\n",
       "      <td>TV</td>\n",
       "      <td>52</td>\n",
       "      <td>Sep 30, 2004 to Sep 29, 2005</td>\n",
       "      <td>Fall 2004</td>\n",
       "      <td>...</td>\n",
       "      <td>312.0</td>\n",
       "      <td>529.0</td>\n",
       "      <td>1242.0</td>\n",
       "      <td>1713.0</td>\n",
       "      <td>1068.0</td>\n",
       "      <td>634.0</td>\n",
       "      <td>265.0</td>\n",
       "      <td>83.0</td>\n",
       "      <td>50.0</td>\n",
       "      <td>27.0</td>\n",
       "    </tr>\n",
       "  </tbody>\n",
       "</table>\n",
       "<p>5 rows × 35 columns</p>\n",
       "</div>"
      ],
      "text/plain": [
       "   MAL_ID                             Name Score  \\\n",
       "0       1                     Cowboy Bebop  8.78   \n",
       "1       5  Cowboy Bebop: Tengoku no Tobira  8.39   \n",
       "2       6                           Trigun  8.24   \n",
       "3       7               Witch Hunter Robin  7.27   \n",
       "4       8                   Bouken Ou Beet  6.98   \n",
       "\n",
       "                                              Genres            English name  \\\n",
       "0    Action, Adventure, Comedy, Drama, Sci-Fi, Space            Cowboy Bebop   \n",
       "1              Action, Drama, Mystery, Sci-Fi, Space  Cowboy Bebop:The Movie   \n",
       "2  Action, Sci-Fi, Adventure, Comedy, Drama, Shounen                  Trigun   \n",
       "3  Action, Mystery, Police, Supernatural, Drama, ...      Witch Hunter Robin   \n",
       "4          Adventure, Fantasy, Shounen, Supernatural  Beet the Vandel Buster   \n",
       "\n",
       "                      Japanese name   Type Episodes  \\\n",
       "0                         カウボーイビバップ     TV       26   \n",
       "1                    カウボーイビバップ 天国の扉  Movie        1   \n",
       "2                             トライガン     TV       26   \n",
       "3  Witch Hunter ROBIN (ウイッチハンターロビン)     TV       26   \n",
       "4                            冒険王ビィト     TV       52   \n",
       "\n",
       "                          Aired    Premiered  ...  Score-10   Score-9  \\\n",
       "0   Apr 3, 1998 to Apr 24, 1999  Spring 1998  ...  229170.0  182126.0   \n",
       "1                   Sep 1, 2001      Unknown  ...   30043.0   49201.0   \n",
       "2   Apr 1, 1998 to Sep 30, 1998  Spring 1998  ...   50229.0   75651.0   \n",
       "3   Jul 2, 2002 to Dec 24, 2002  Summer 2002  ...    2182.0    4806.0   \n",
       "4  Sep 30, 2004 to Sep 29, 2005    Fall 2004  ...     312.0     529.0   \n",
       "\n",
       "    Score-8  Score-7  Score-6 Score-5 Score-4  Score-3  Score-2  Score-1  \n",
       "0  131625.0  62330.0  20688.0  8904.0  3184.0   1357.0    741.0   1580.0  \n",
       "1   49505.0  22632.0   5805.0  1877.0   577.0    221.0    109.0    379.0  \n",
       "2   86142.0  49432.0  15376.0  5838.0  1965.0    664.0    316.0    533.0  \n",
       "3   10128.0  11618.0   5709.0  2920.0  1083.0    353.0    164.0    131.0  \n",
       "4    1242.0   1713.0   1068.0   634.0   265.0     83.0     50.0     27.0  \n",
       "\n",
       "[5 rows x 35 columns]"
      ]
     },
     "execution_count": 4,
     "metadata": {},
     "output_type": "execute_result"
    }
   ],
   "source": [
    "anime_info_df.head(5)"
   ]
  },
  {
   "cell_type": "code",
   "execution_count": 5,
   "id": "dc820f38",
   "metadata": {
    "execution": {
     "iopub.execute_input": "2021-10-15T13:00:55.239678Z",
     "iopub.status.busy": "2021-10-15T13:00:55.237051Z",
     "iopub.status.idle": "2021-10-15T13:00:55.263608Z",
     "shell.execute_reply": "2021-10-15T13:00:55.264056Z",
     "shell.execute_reply.started": "2021-10-15T12:47:31.719916Z"
    },
    "papermill": {
     "duration": 0.055827,
     "end_time": "2021-10-15T13:00:55.264192",
     "exception": false,
     "start_time": "2021-10-15T13:00:55.208365",
     "status": "completed"
    },
    "tags": []
   },
   "outputs": [
    {
     "data": {
      "text/html": [
       "<div>\n",
       "<style scoped>\n",
       "    .dataframe tbody tr th:only-of-type {\n",
       "        vertical-align: middle;\n",
       "    }\n",
       "\n",
       "    .dataframe tbody tr th {\n",
       "        vertical-align: top;\n",
       "    }\n",
       "\n",
       "    .dataframe thead th {\n",
       "        text-align: right;\n",
       "    }\n",
       "</style>\n",
       "<table border=\"1\" class=\"dataframe\">\n",
       "  <thead>\n",
       "    <tr style=\"text-align: right;\">\n",
       "      <th></th>\n",
       "      <th>MAL_ID</th>\n",
       "      <th>Name</th>\n",
       "      <th>Score</th>\n",
       "      <th>Genres</th>\n",
       "      <th>sypnopsis</th>\n",
       "      <th>Type</th>\n",
       "      <th>Popularity</th>\n",
       "      <th>Members</th>\n",
       "      <th>Favorites</th>\n",
       "    </tr>\n",
       "  </thead>\n",
       "  <tbody>\n",
       "    <tr>\n",
       "      <th>0</th>\n",
       "      <td>1</td>\n",
       "      <td>Cowboy Bebop</td>\n",
       "      <td>8.78</td>\n",
       "      <td>Action, Adventure, Comedy, Drama, Sci-Fi, Space</td>\n",
       "      <td>In the year 2071, humanity has colonized sever...</td>\n",
       "      <td>TV</td>\n",
       "      <td>39</td>\n",
       "      <td>1251960</td>\n",
       "      <td>61971</td>\n",
       "    </tr>\n",
       "    <tr>\n",
       "      <th>1</th>\n",
       "      <td>5</td>\n",
       "      <td>Cowboy Bebop: Tengoku no Tobira</td>\n",
       "      <td>8.39</td>\n",
       "      <td>Action, Drama, Mystery, Sci-Fi, Space</td>\n",
       "      <td>other day, another bounty—such is the life of ...</td>\n",
       "      <td>Movie</td>\n",
       "      <td>518</td>\n",
       "      <td>273145</td>\n",
       "      <td>1174</td>\n",
       "    </tr>\n",
       "    <tr>\n",
       "      <th>2</th>\n",
       "      <td>6</td>\n",
       "      <td>Trigun</td>\n",
       "      <td>8.24</td>\n",
       "      <td>Action, Sci-Fi, Adventure, Comedy, Drama, Shounen</td>\n",
       "      <td>Vash the Stampede is the man with a $$60,000,0...</td>\n",
       "      <td>TV</td>\n",
       "      <td>201</td>\n",
       "      <td>558913</td>\n",
       "      <td>12944</td>\n",
       "    </tr>\n",
       "    <tr>\n",
       "      <th>3</th>\n",
       "      <td>7</td>\n",
       "      <td>Witch Hunter Robin</td>\n",
       "      <td>7.27</td>\n",
       "      <td>Action, Mystery, Police, Supernatural, Drama, ...</td>\n",
       "      <td>ches are individuals with special powers like ...</td>\n",
       "      <td>TV</td>\n",
       "      <td>1467</td>\n",
       "      <td>94683</td>\n",
       "      <td>587</td>\n",
       "    </tr>\n",
       "    <tr>\n",
       "      <th>4</th>\n",
       "      <td>8</td>\n",
       "      <td>Bouken Ou Beet</td>\n",
       "      <td>6.98</td>\n",
       "      <td>Adventure, Fantasy, Shounen, Supernatural</td>\n",
       "      <td>It is the dark century and the people are suff...</td>\n",
       "      <td>TV</td>\n",
       "      <td>4369</td>\n",
       "      <td>13224</td>\n",
       "      <td>18</td>\n",
       "    </tr>\n",
       "    <tr>\n",
       "      <th>5</th>\n",
       "      <td>15</td>\n",
       "      <td>Eyeshield 21</td>\n",
       "      <td>7.95</td>\n",
       "      <td>Action, Sports, Comedy, Shounen</td>\n",
       "      <td>Sena is like any other shy kid starting high s...</td>\n",
       "      <td>TV</td>\n",
       "      <td>1003</td>\n",
       "      <td>148259</td>\n",
       "      <td>2066</td>\n",
       "    </tr>\n",
       "    <tr>\n",
       "      <th>6</th>\n",
       "      <td>16</td>\n",
       "      <td>Hachimitsu to Clover</td>\n",
       "      <td>8.06</td>\n",
       "      <td>Comedy, Drama, Josei, Romance, Slice of Life</td>\n",
       "      <td>Yuuta Takemoto, a sophomore at an arts college...</td>\n",
       "      <td>TV</td>\n",
       "      <td>687</td>\n",
       "      <td>214499</td>\n",
       "      <td>4101</td>\n",
       "    </tr>\n",
       "    <tr>\n",
       "      <th>7</th>\n",
       "      <td>17</td>\n",
       "      <td>Hungry Heart: Wild Striker</td>\n",
       "      <td>7.59</td>\n",
       "      <td>Slice of Life, Comedy, Sports, Shounen</td>\n",
       "      <td>Kyosuke Kano has lived under the shadow of his...</td>\n",
       "      <td>TV</td>\n",
       "      <td>3612</td>\n",
       "      <td>20470</td>\n",
       "      <td>231</td>\n",
       "    </tr>\n",
       "    <tr>\n",
       "      <th>8</th>\n",
       "      <td>18</td>\n",
       "      <td>Initial D Fourth Stage</td>\n",
       "      <td>8.15</td>\n",
       "      <td>Action, Cars, Sports, Drama, Seinen</td>\n",
       "      <td>Takumi Fujiwara finally joins Ryousuke and Kei...</td>\n",
       "      <td>TV</td>\n",
       "      <td>1233</td>\n",
       "      <td>117929</td>\n",
       "      <td>979</td>\n",
       "    </tr>\n",
       "    <tr>\n",
       "      <th>9</th>\n",
       "      <td>19</td>\n",
       "      <td>Monster</td>\n",
       "      <td>8.76</td>\n",
       "      <td>Drama, Horror, Mystery, Police, Psychological,...</td>\n",
       "      <td>Dr. Kenzou Tenma, an elite neurosurgeon recent...</td>\n",
       "      <td>TV</td>\n",
       "      <td>169</td>\n",
       "      <td>614100</td>\n",
       "      <td>29436</td>\n",
       "    </tr>\n",
       "  </tbody>\n",
       "</table>\n",
       "</div>"
      ],
      "text/plain": [
       "   MAL_ID                             Name Score  \\\n",
       "0       1                     Cowboy Bebop  8.78   \n",
       "1       5  Cowboy Bebop: Tengoku no Tobira  8.39   \n",
       "2       6                           Trigun  8.24   \n",
       "3       7               Witch Hunter Robin  7.27   \n",
       "4       8                   Bouken Ou Beet  6.98   \n",
       "5      15                     Eyeshield 21  7.95   \n",
       "6      16             Hachimitsu to Clover  8.06   \n",
       "7      17       Hungry Heart: Wild Striker  7.59   \n",
       "8      18           Initial D Fourth Stage  8.15   \n",
       "9      19                          Monster  8.76   \n",
       "\n",
       "                                              Genres  \\\n",
       "0    Action, Adventure, Comedy, Drama, Sci-Fi, Space   \n",
       "1              Action, Drama, Mystery, Sci-Fi, Space   \n",
       "2  Action, Sci-Fi, Adventure, Comedy, Drama, Shounen   \n",
       "3  Action, Mystery, Police, Supernatural, Drama, ...   \n",
       "4          Adventure, Fantasy, Shounen, Supernatural   \n",
       "5                    Action, Sports, Comedy, Shounen   \n",
       "6       Comedy, Drama, Josei, Romance, Slice of Life   \n",
       "7             Slice of Life, Comedy, Sports, Shounen   \n",
       "8                Action, Cars, Sports, Drama, Seinen   \n",
       "9  Drama, Horror, Mystery, Police, Psychological,...   \n",
       "\n",
       "                                           sypnopsis   Type  Popularity  \\\n",
       "0  In the year 2071, humanity has colonized sever...     TV          39   \n",
       "1  other day, another bounty—such is the life of ...  Movie         518   \n",
       "2  Vash the Stampede is the man with a $$60,000,0...     TV         201   \n",
       "3  ches are individuals with special powers like ...     TV        1467   \n",
       "4  It is the dark century and the people are suff...     TV        4369   \n",
       "5  Sena is like any other shy kid starting high s...     TV        1003   \n",
       "6  Yuuta Takemoto, a sophomore at an arts college...     TV         687   \n",
       "7  Kyosuke Kano has lived under the shadow of his...     TV        3612   \n",
       "8  Takumi Fujiwara finally joins Ryousuke and Kei...     TV        1233   \n",
       "9  Dr. Kenzou Tenma, an elite neurosurgeon recent...     TV         169   \n",
       "\n",
       "   Members  Favorites  \n",
       "0  1251960      61971  \n",
       "1   273145       1174  \n",
       "2   558913      12944  \n",
       "3    94683        587  \n",
       "4    13224         18  \n",
       "5   148259       2066  \n",
       "6   214499       4101  \n",
       "7    20470        231  \n",
       "8   117929        979  \n",
       "9   614100      29436  "
      ]
     },
     "execution_count": 5,
     "metadata": {},
     "output_type": "execute_result"
    }
   ],
   "source": [
    "anime_df = pd.merge(anime_desc_df,anime_info_df[['MAL_ID','Type','Popularity','Members','Favorites']],on='MAL_ID')\n",
    "anime_df.head(10)"
   ]
  },
  {
   "cell_type": "code",
   "execution_count": 6,
   "id": "b00b3075",
   "metadata": {
    "execution": {
     "iopub.execute_input": "2021-10-15T13:00:55.313764Z",
     "iopub.status.busy": "2021-10-15T13:00:55.312968Z",
     "iopub.status.idle": "2021-10-15T13:00:55.337013Z",
     "shell.execute_reply": "2021-10-15T13:00:55.336574Z",
     "shell.execute_reply.started": "2021-10-15T12:47:31.75192Z"
    },
    "papermill": {
     "duration": 0.049991,
     "end_time": "2021-10-15T13:00:55.337127",
     "exception": false,
     "start_time": "2021-10-15T13:00:55.287136",
     "status": "completed"
    },
    "tags": []
   },
   "outputs": [
    {
     "name": "stdout",
     "output_type": "stream",
     "text": [
      "<class 'pandas.core.frame.DataFrame'>\n",
      "Int64Index: 16214 entries, 0 to 16213\n",
      "Data columns (total 9 columns):\n",
      " #   Column      Non-Null Count  Dtype \n",
      "---  ------      --------------  ----- \n",
      " 0   MAL_ID      16214 non-null  int64 \n",
      " 1   Name        16214 non-null  object\n",
      " 2   Score       16214 non-null  object\n",
      " 3   Genres      16214 non-null  object\n",
      " 4   sypnopsis   16206 non-null  object\n",
      " 5   Type        16214 non-null  object\n",
      " 6   Popularity  16214 non-null  int64 \n",
      " 7   Members     16214 non-null  int64 \n",
      " 8   Favorites   16214 non-null  int64 \n",
      "dtypes: int64(4), object(5)\n",
      "memory usage: 1.2+ MB\n"
     ]
    }
   ],
   "source": [
    "anime_df.info()"
   ]
  },
  {
   "cell_type": "code",
   "execution_count": 7,
   "id": "b0ab652d",
   "metadata": {
    "execution": {
     "iopub.execute_input": "2021-10-15T13:00:55.391883Z",
     "iopub.status.busy": "2021-10-15T13:00:55.391327Z",
     "iopub.status.idle": "2021-10-15T13:00:55.412769Z",
     "shell.execute_reply": "2021-10-15T13:00:55.413234Z",
     "shell.execute_reply.started": "2021-10-15T12:47:31.779151Z"
    },
    "papermill": {
     "duration": 0.053139,
     "end_time": "2021-10-15T13:00:55.413364",
     "exception": false,
     "start_time": "2021-10-15T13:00:55.360225",
     "status": "completed"
    },
    "tags": []
   },
   "outputs": [
    {
     "data": {
      "text/plain": [
       "count       16214\n",
       "unique        532\n",
       "top       Unknown\n",
       "freq         5123\n",
       "Name: Score, dtype: object"
      ]
     },
     "execution_count": 7,
     "metadata": {},
     "output_type": "execute_result"
    }
   ],
   "source": [
    "anime_df[\"Score\"].describe()"
   ]
  },
  {
   "cell_type": "code",
   "execution_count": 8,
   "id": "eecdbbe0",
   "metadata": {
    "execution": {
     "iopub.execute_input": "2021-10-15T13:00:55.466243Z",
     "iopub.status.busy": "2021-10-15T13:00:55.465451Z",
     "iopub.status.idle": "2021-10-15T13:00:55.473029Z",
     "shell.execute_reply": "2021-10-15T13:00:55.473392Z",
     "shell.execute_reply.started": "2021-10-15T12:47:31.806614Z"
    },
    "papermill": {
     "duration": 0.037151,
     "end_time": "2021-10-15T13:00:55.473509",
     "exception": false,
     "start_time": "2021-10-15T13:00:55.436358",
     "status": "completed"
    },
    "tags": []
   },
   "outputs": [
    {
     "data": {
      "text/plain": [
       "(11091, 9)"
      ]
     },
     "execution_count": 8,
     "metadata": {},
     "output_type": "execute_result"
    }
   ],
   "source": [
    "anime_df = anime_df[(anime_df[\"Score\"] != \"Unknown\")] \n",
    "anime_df.shape"
   ]
  },
  {
   "cell_type": "markdown",
   "id": "f1353ccc",
   "metadata": {
    "papermill": {
     "duration": 0.023099,
     "end_time": "2021-10-15T13:00:55.521837",
     "exception": false,
     "start_time": "2021-10-15T13:00:55.498738",
     "status": "completed"
    },
    "tags": []
   },
   "source": [
    "## Content  Filtering"
   ]
  },
  {
   "cell_type": "code",
   "execution_count": 9,
   "id": "59b11026",
   "metadata": {
    "execution": {
     "iopub.execute_input": "2021-10-15T13:00:55.574828Z",
     "iopub.status.busy": "2021-10-15T13:00:55.574351Z",
     "iopub.status.idle": "2021-10-15T13:00:55.577793Z",
     "shell.execute_reply": "2021-10-15T13:00:55.577380Z",
     "shell.execute_reply.started": "2021-10-15T12:47:31.82278Z"
    },
    "papermill": {
     "duration": 0.031744,
     "end_time": "2021-10-15T13:00:55.577890",
     "exception": false,
     "start_time": "2021-10-15T13:00:55.546146",
     "status": "completed"
    },
    "tags": []
   },
   "outputs": [],
   "source": [
    "anime_df['sypnopsis'] = anime_df['sypnopsis'].fillna('')"
   ]
  },
  {
   "cell_type": "code",
   "execution_count": 10,
   "id": "969b1057",
   "metadata": {
    "execution": {
     "iopub.execute_input": "2021-10-15T13:00:55.672095Z",
     "iopub.status.busy": "2021-10-15T13:00:55.641212Z",
     "iopub.status.idle": "2021-10-15T13:00:58.478319Z",
     "shell.execute_reply": "2021-10-15T13:00:58.477868Z",
     "shell.execute_reply.started": "2021-10-15T12:47:31.831136Z"
    },
    "papermill": {
     "duration": 2.877561,
     "end_time": "2021-10-15T13:00:58.478441",
     "exception": false,
     "start_time": "2021-10-15T13:00:55.600880",
     "status": "completed"
    },
    "tags": []
   },
   "outputs": [
    {
     "data": {
      "text/plain": [
       "(11091, 386042)"
      ]
     },
     "execution_count": 10,
     "metadata": {},
     "output_type": "execute_result"
    }
   ],
   "source": [
    "tfidf = TfidfVectorizer(analyzer='word',ngram_range=(1, 2),min_df=0, stop_words='english')\n",
    "tfidf_matrix = tfidf.fit_transform(anime_df['sypnopsis'])\n",
    "tfidf_matrix.shape"
   ]
  },
  {
   "cell_type": "code",
   "execution_count": 11,
   "id": "04615738",
   "metadata": {
    "execution": {
     "iopub.execute_input": "2021-10-15T13:00:58.531011Z",
     "iopub.status.busy": "2021-10-15T13:00:58.530065Z",
     "iopub.status.idle": "2021-10-15T13:01:00.995536Z",
     "shell.execute_reply": "2021-10-15T13:01:00.995957Z",
     "shell.execute_reply.started": "2021-10-15T12:47:34.632191Z"
    },
    "papermill": {
     "duration": 2.494039,
     "end_time": "2021-10-15T13:01:00.996106",
     "exception": false,
     "start_time": "2021-10-15T13:00:58.502067",
     "status": "completed"
    },
    "tags": []
   },
   "outputs": [
    {
     "data": {
      "text/plain": [
       "(11091, 11091)"
      ]
     },
     "execution_count": 11,
     "metadata": {},
     "output_type": "execute_result"
    }
   ],
   "source": [
    "cosine_sim = linear_kernel(tfidf_matrix, tfidf_matrix)\n",
    "cosine_sim.shape"
   ]
  },
  {
   "cell_type": "code",
   "execution_count": 12,
   "id": "338f9d62",
   "metadata": {
    "execution": {
     "iopub.execute_input": "2021-10-15T13:01:01.048466Z",
     "iopub.status.busy": "2021-10-15T13:01:01.047589Z",
     "iopub.status.idle": "2021-10-15T13:01:01.053051Z",
     "shell.execute_reply": "2021-10-15T13:01:01.053605Z",
     "shell.execute_reply.started": "2021-10-15T12:47:37.281036Z"
    },
    "papermill": {
     "duration": 0.033921,
     "end_time": "2021-10-15T13:01:01.053735",
     "exception": false,
     "start_time": "2021-10-15T13:01:01.019814",
     "status": "completed"
    },
    "tags": []
   },
   "outputs": [],
   "source": [
    "anime_df = anime_df.reset_index()\n",
    "titles = anime_df['Name']\n",
    "indices = pd.Series(anime_df.index, index=anime_df['Name'])"
   ]
  },
  {
   "cell_type": "code",
   "execution_count": 13,
   "id": "d5d82172",
   "metadata": {
    "execution": {
     "iopub.execute_input": "2021-10-15T13:01:01.110967Z",
     "iopub.status.busy": "2021-10-15T13:01:01.110202Z",
     "iopub.status.idle": "2021-10-15T13:01:01.112116Z",
     "shell.execute_reply": "2021-10-15T13:01:01.112784Z",
     "shell.execute_reply.started": "2021-10-15T12:47:37.291024Z"
    },
    "papermill": {
     "duration": 0.03504,
     "end_time": "2021-10-15T13:01:01.112905",
     "exception": false,
     "start_time": "2021-10-15T13:01:01.077865",
     "status": "completed"
    },
    "tags": []
   },
   "outputs": [],
   "source": [
    "def content_recommendations(title):\n",
    "    idx = indices[title]\n",
    "    sim_scores = list(enumerate(cosine_sim[idx]))\n",
    "    sim_scores = sorted(sim_scores, key=lambda x: x[1], reverse=True)\n",
    "    sim_scores = sim_scores[1:31]\n",
    "    anime_indices = [i[0] for i in sim_scores]\n",
    "    \n",
    "    anime_lst = anime_df.iloc[anime_indices][['Name', 'Members', 'Score']]\n",
    "    favorite_count = anime_lst[anime_lst['Members'].notnull()]['Members'].astype('int')\n",
    "    score_avg = anime_lst[anime_lst['Score'].notnull()]['Score'].astype('float')\n",
    "    C = score_avg.mean()\n",
    "    m = favorite_count.quantile(0.60)\n",
    "    qualified = anime_lst[(anime_lst['Members'] >= m) & (anime_lst['Members'].notnull()) & (anime_lst['Score'].notnull())]\n",
    "    qualified['Members'] = qualified['Members'].astype('int')\n",
    "    qualified['Score'] = qualified['Score'].astype('float')\n",
    "    def weighted_rating(x):\n",
    "        v = x['Members']\n",
    "        R = x['Score']\n",
    "        return (v/(v+m) * R) + (m/(m+v) * C)   \n",
    "    \n",
    "    qualified['wr'] = qualified.apply(weighted_rating, axis=1)\n",
    "    qualified = qualified.sort_values('wr', ascending=False).head(10)\n",
    "    \n",
    "    return qualified"
   ]
  },
  {
   "cell_type": "code",
   "execution_count": 14,
   "id": "a7b8d39a",
   "metadata": {
    "execution": {
     "iopub.execute_input": "2021-10-15T13:01:01.177681Z",
     "iopub.status.busy": "2021-10-15T13:01:01.177191Z",
     "iopub.status.idle": "2021-10-15T13:01:01.201258Z",
     "shell.execute_reply": "2021-10-15T13:01:01.200646Z",
     "shell.execute_reply.started": "2021-10-15T12:47:37.305955Z"
    },
    "papermill": {
     "duration": 0.06541,
     "end_time": "2021-10-15T13:01:01.201390",
     "exception": false,
     "start_time": "2021-10-15T13:01:01.135980",
     "status": "completed"
    },
    "tags": []
   },
   "outputs": [
    {
     "data": {
      "text/html": [
       "<div>\n",
       "<style scoped>\n",
       "    .dataframe tbody tr th:only-of-type {\n",
       "        vertical-align: middle;\n",
       "    }\n",
       "\n",
       "    .dataframe tbody tr th {\n",
       "        vertical-align: top;\n",
       "    }\n",
       "\n",
       "    .dataframe thead th {\n",
       "        text-align: right;\n",
       "    }\n",
       "</style>\n",
       "<table border=\"1\" class=\"dataframe\">\n",
       "  <thead>\n",
       "    <tr style=\"text-align: right;\">\n",
       "      <th></th>\n",
       "      <th>Name</th>\n",
       "      <th>Members</th>\n",
       "      <th>Score</th>\n",
       "      <th>wr</th>\n",
       "    </tr>\n",
       "  </thead>\n",
       "  <tbody>\n",
       "    <tr>\n",
       "      <th>1506</th>\n",
       "      <td>Naruto: Shippuuden</td>\n",
       "      <td>1543765</td>\n",
       "      <td>8.16</td>\n",
       "      <td>8.051279</td>\n",
       "    </tr>\n",
       "    <tr>\n",
       "      <th>824</th>\n",
       "      <td>Higurashi no Naku Koro ni</td>\n",
       "      <td>638491</td>\n",
       "      <td>7.95</td>\n",
       "      <td>7.762043</td>\n",
       "    </tr>\n",
       "    <tr>\n",
       "      <th>5998</th>\n",
       "      <td>The Last: Naruto the Movie</td>\n",
       "      <td>352160</td>\n",
       "      <td>7.76</td>\n",
       "      <td>7.528764</td>\n",
       "    </tr>\n",
       "    <tr>\n",
       "      <th>5623</th>\n",
       "      <td>Naruto: Shippuuden Movie 6 - Road to Ninja</td>\n",
       "      <td>223826</td>\n",
       "      <td>7.67</td>\n",
       "      <td>7.400756</td>\n",
       "    </tr>\n",
       "    <tr>\n",
       "      <th>7245</th>\n",
       "      <td>Boruto: Naruto the Movie</td>\n",
       "      <td>320603</td>\n",
       "      <td>7.50</td>\n",
       "      <td>7.342222</td>\n",
       "    </tr>\n",
       "    <tr>\n",
       "      <th>4381</th>\n",
       "      <td>Naruto: Shippuuden Movie 4 - The Lost Tower</td>\n",
       "      <td>172051</td>\n",
       "      <td>7.42</td>\n",
       "      <td>7.231966</td>\n",
       "    </tr>\n",
       "    <tr>\n",
       "      <th>2089</th>\n",
       "      <td>Naruto: Shippuuden Movie 1</td>\n",
       "      <td>211544</td>\n",
       "      <td>7.29</td>\n",
       "      <td>7.178705</td>\n",
       "    </tr>\n",
       "    <tr>\n",
       "      <th>3145</th>\n",
       "      <td>Naruto: Shippuuden Movie 2 - Kizuna</td>\n",
       "      <td>188680</td>\n",
       "      <td>7.29</td>\n",
       "      <td>7.171518</td>\n",
       "    </tr>\n",
       "    <tr>\n",
       "      <th>403</th>\n",
       "      <td>Naruto Movie 1: Dai Katsugeki!! Yuki Hime Shin...</td>\n",
       "      <td>215046</td>\n",
       "      <td>7.10</td>\n",
       "      <td>7.072324</td>\n",
       "    </tr>\n",
       "    <tr>\n",
       "      <th>826</th>\n",
       "      <td>Naruto Movie 2: Dai Gekitotsu! Maboroshi no Ch...</td>\n",
       "      <td>172509</td>\n",
       "      <td>6.88</td>\n",
       "      <td>6.956515</td>\n",
       "    </tr>\n",
       "  </tbody>\n",
       "</table>\n",
       "</div>"
      ],
      "text/plain": [
       "                                                   Name  Members  Score  \\\n",
       "1506                                 Naruto: Shippuuden  1543765   8.16   \n",
       "824                           Higurashi no Naku Koro ni   638491   7.95   \n",
       "5998                         The Last: Naruto the Movie   352160   7.76   \n",
       "5623         Naruto: Shippuuden Movie 6 - Road to Ninja   223826   7.67   \n",
       "7245                           Boruto: Naruto the Movie   320603   7.50   \n",
       "4381        Naruto: Shippuuden Movie 4 - The Lost Tower   172051   7.42   \n",
       "2089                         Naruto: Shippuuden Movie 1   211544   7.29   \n",
       "3145                Naruto: Shippuuden Movie 2 - Kizuna   188680   7.29   \n",
       "403   Naruto Movie 1: Dai Katsugeki!! Yuki Hime Shin...   215046   7.10   \n",
       "826   Naruto Movie 2: Dai Gekitotsu! Maboroshi no Ch...   172509   6.88   \n",
       "\n",
       "            wr  \n",
       "1506  8.051279  \n",
       "824   7.762043  \n",
       "5998  7.528764  \n",
       "5623  7.400756  \n",
       "7245  7.342222  \n",
       "4381  7.231966  \n",
       "2089  7.178705  \n",
       "3145  7.171518  \n",
       "403   7.072324  \n",
       "826   6.956515  "
      ]
     },
     "execution_count": 14,
     "metadata": {},
     "output_type": "execute_result"
    }
   ],
   "source": [
    "content_recommendations('Naruto').head(10)"
   ]
  },
  {
   "cell_type": "markdown",
   "id": "db7083e3",
   "metadata": {
    "papermill": {
     "duration": 0.023416,
     "end_time": "2021-10-15T13:01:01.249473",
     "exception": false,
     "start_time": "2021-10-15T13:01:01.226057",
     "status": "completed"
    },
    "tags": []
   },
   "source": [
    "## Collaborative Filtering"
   ]
  },
  {
   "cell_type": "code",
   "execution_count": 15,
   "id": "8ff54680",
   "metadata": {
    "execution": {
     "iopub.execute_input": "2021-10-15T13:01:01.305189Z",
     "iopub.status.busy": "2021-10-15T13:01:01.304562Z",
     "iopub.status.idle": "2021-10-15T13:01:01.307212Z",
     "shell.execute_reply": "2021-10-15T13:01:01.307601Z",
     "shell.execute_reply.started": "2021-10-15T12:47:37.352526Z"
    },
    "papermill": {
     "duration": 0.034667,
     "end_time": "2021-10-15T13:01:01.307723",
     "exception": false,
     "start_time": "2021-10-15T13:01:01.273056",
     "status": "completed"
    },
    "scrolled": true,
    "tags": []
   },
   "outputs": [
    {
     "data": {
      "text/html": [
       "<div>\n",
       "<style scoped>\n",
       "    .dataframe tbody tr th:only-of-type {\n",
       "        vertical-align: middle;\n",
       "    }\n",
       "\n",
       "    .dataframe tbody tr th {\n",
       "        vertical-align: top;\n",
       "    }\n",
       "\n",
       "    .dataframe thead th {\n",
       "        text-align: right;\n",
       "    }\n",
       "</style>\n",
       "<table border=\"1\" class=\"dataframe\">\n",
       "  <thead>\n",
       "    <tr style=\"text-align: right;\">\n",
       "      <th></th>\n",
       "      <th>user_id</th>\n",
       "      <th>anime_id</th>\n",
       "      <th>rating</th>\n",
       "    </tr>\n",
       "  </thead>\n",
       "  <tbody>\n",
       "    <tr>\n",
       "      <th>0</th>\n",
       "      <td>1</td>\n",
       "      <td>20</td>\n",
       "      <td>-1</td>\n",
       "    </tr>\n",
       "    <tr>\n",
       "      <th>1</th>\n",
       "      <td>1</td>\n",
       "      <td>24</td>\n",
       "      <td>-1</td>\n",
       "    </tr>\n",
       "    <tr>\n",
       "      <th>2</th>\n",
       "      <td>1</td>\n",
       "      <td>79</td>\n",
       "      <td>-1</td>\n",
       "    </tr>\n",
       "    <tr>\n",
       "      <th>3</th>\n",
       "      <td>1</td>\n",
       "      <td>226</td>\n",
       "      <td>-1</td>\n",
       "    </tr>\n",
       "    <tr>\n",
       "      <th>4</th>\n",
       "      <td>1</td>\n",
       "      <td>241</td>\n",
       "      <td>-1</td>\n",
       "    </tr>\n",
       "    <tr>\n",
       "      <th>5</th>\n",
       "      <td>1</td>\n",
       "      <td>355</td>\n",
       "      <td>-1</td>\n",
       "    </tr>\n",
       "    <tr>\n",
       "      <th>6</th>\n",
       "      <td>1</td>\n",
       "      <td>356</td>\n",
       "      <td>-1</td>\n",
       "    </tr>\n",
       "    <tr>\n",
       "      <th>7</th>\n",
       "      <td>1</td>\n",
       "      <td>442</td>\n",
       "      <td>-1</td>\n",
       "    </tr>\n",
       "    <tr>\n",
       "      <th>8</th>\n",
       "      <td>1</td>\n",
       "      <td>487</td>\n",
       "      <td>-1</td>\n",
       "    </tr>\n",
       "    <tr>\n",
       "      <th>9</th>\n",
       "      <td>1</td>\n",
       "      <td>846</td>\n",
       "      <td>-1</td>\n",
       "    </tr>\n",
       "  </tbody>\n",
       "</table>\n",
       "</div>"
      ],
      "text/plain": [
       "   user_id  anime_id  rating\n",
       "0        1        20      -1\n",
       "1        1        24      -1\n",
       "2        1        79      -1\n",
       "3        1       226      -1\n",
       "4        1       241      -1\n",
       "5        1       355      -1\n",
       "6        1       356      -1\n",
       "7        1       442      -1\n",
       "8        1       487      -1\n",
       "9        1       846      -1"
      ]
     },
     "execution_count": 15,
     "metadata": {},
     "output_type": "execute_result"
    }
   ],
   "source": [
    "rating_df.head(10)"
   ]
  },
  {
   "cell_type": "code",
   "execution_count": 16,
   "id": "49ab0f68",
   "metadata": {
    "execution": {
     "iopub.execute_input": "2021-10-15T13:01:01.360968Z",
     "iopub.status.busy": "2021-10-15T13:01:01.360022Z",
     "iopub.status.idle": "2021-10-15T13:01:01.418237Z",
     "shell.execute_reply": "2021-10-15T13:01:01.418635Z",
     "shell.execute_reply.started": "2021-10-15T12:47:37.365612Z"
    },
    "papermill": {
     "duration": 0.086691,
     "end_time": "2021-10-15T13:01:01.418753",
     "exception": false,
     "start_time": "2021-10-15T13:01:01.332062",
     "status": "completed"
    },
    "tags": []
   },
   "outputs": [
    {
     "data": {
      "text/plain": [
       " 8     1646019\n",
       "-1     1476496\n",
       " 7     1375287\n",
       " 9     1254096\n",
       " 10     955715\n",
       " 6      637775\n",
       " 5      282806\n",
       " 4      104291\n",
       " 3       41453\n",
       " 2       23150\n",
       " 1       16649\n",
       "Name: rating, dtype: int64"
      ]
     },
     "execution_count": 16,
     "metadata": {},
     "output_type": "execute_result"
    }
   ],
   "source": [
    "rating_df['rating'].value_counts()"
   ]
  },
  {
   "cell_type": "code",
   "execution_count": 17,
   "id": "5607c0f3",
   "metadata": {
    "execution": {
     "iopub.execute_input": "2021-10-15T13:01:01.480591Z",
     "iopub.status.busy": "2021-10-15T13:01:01.479753Z",
     "iopub.status.idle": "2021-10-15T13:01:01.637683Z",
     "shell.execute_reply": "2021-10-15T13:01:01.637223Z",
     "shell.execute_reply.started": "2021-10-15T12:47:37.427082Z"
    },
    "papermill": {
     "duration": 0.194565,
     "end_time": "2021-10-15T13:01:01.637808",
     "exception": false,
     "start_time": "2021-10-15T13:01:01.443243",
     "status": "completed"
    },
    "tags": []
   },
   "outputs": [],
   "source": [
    "# rating_df['rating'] = rating_df['rating'].apply(lambda x: 1 if x < 0 else x)\n",
    "rating_df = rating_df[(rating_df[\"rating\"] != -1)] "
   ]
  },
  {
   "cell_type": "code",
   "execution_count": 18,
   "id": "cffee621",
   "metadata": {
    "execution": {
     "iopub.execute_input": "2021-10-15T13:01:01.695738Z",
     "iopub.status.busy": "2021-10-15T13:01:01.695122Z",
     "iopub.status.idle": "2021-10-15T13:01:01.697918Z",
     "shell.execute_reply": "2021-10-15T13:01:01.698331Z",
     "shell.execute_reply.started": "2021-10-15T12:47:37.596418Z"
    },
    "papermill": {
     "duration": 0.035462,
     "end_time": "2021-10-15T13:01:01.698450",
     "exception": false,
     "start_time": "2021-10-15T13:01:01.662988",
     "status": "completed"
    },
    "tags": []
   },
   "outputs": [
    {
     "data": {
      "text/html": [
       "<div>\n",
       "<style scoped>\n",
       "    .dataframe tbody tr th:only-of-type {\n",
       "        vertical-align: middle;\n",
       "    }\n",
       "\n",
       "    .dataframe tbody tr th {\n",
       "        vertical-align: top;\n",
       "    }\n",
       "\n",
       "    .dataframe thead th {\n",
       "        text-align: right;\n",
       "    }\n",
       "</style>\n",
       "<table border=\"1\" class=\"dataframe\">\n",
       "  <thead>\n",
       "    <tr style=\"text-align: right;\">\n",
       "      <th></th>\n",
       "      <th>user_id</th>\n",
       "      <th>anime_id</th>\n",
       "      <th>rating</th>\n",
       "    </tr>\n",
       "  </thead>\n",
       "  <tbody>\n",
       "    <tr>\n",
       "      <th>47</th>\n",
       "      <td>1</td>\n",
       "      <td>8074</td>\n",
       "      <td>10</td>\n",
       "    </tr>\n",
       "    <tr>\n",
       "      <th>81</th>\n",
       "      <td>1</td>\n",
       "      <td>11617</td>\n",
       "      <td>10</td>\n",
       "    </tr>\n",
       "    <tr>\n",
       "      <th>83</th>\n",
       "      <td>1</td>\n",
       "      <td>11757</td>\n",
       "      <td>10</td>\n",
       "    </tr>\n",
       "    <tr>\n",
       "      <th>101</th>\n",
       "      <td>1</td>\n",
       "      <td>15451</td>\n",
       "      <td>10</td>\n",
       "    </tr>\n",
       "    <tr>\n",
       "      <th>153</th>\n",
       "      <td>2</td>\n",
       "      <td>11771</td>\n",
       "      <td>10</td>\n",
       "    </tr>\n",
       "  </tbody>\n",
       "</table>\n",
       "</div>"
      ],
      "text/plain": [
       "     user_id  anime_id  rating\n",
       "47         1      8074      10\n",
       "81         1     11617      10\n",
       "83         1     11757      10\n",
       "101        1     15451      10\n",
       "153        2     11771      10"
      ]
     },
     "execution_count": 18,
     "metadata": {},
     "output_type": "execute_result"
    }
   ],
   "source": [
    "rating_df.head(5)"
   ]
  },
  {
   "cell_type": "code",
   "execution_count": 19,
   "id": "3f662ceb",
   "metadata": {
    "execution": {
     "iopub.execute_input": "2021-10-15T13:01:01.782052Z",
     "iopub.status.busy": "2021-10-15T13:01:01.756042Z",
     "iopub.status.idle": "2021-10-15T13:01:09.547980Z",
     "shell.execute_reply": "2021-10-15T13:01:09.547055Z",
     "shell.execute_reply.started": "2021-10-15T12:47:37.610401Z"
    },
    "papermill": {
     "duration": 7.825044,
     "end_time": "2021-10-15T13:01:09.548126",
     "exception": false,
     "start_time": "2021-10-15T13:01:01.723082",
     "status": "completed"
    },
    "tags": []
   },
   "outputs": [],
   "source": [
    "reader = Reader()\n",
    "rating_data = Dataset.load_from_df(rating_df, reader)\n",
    "svd = SVD()"
   ]
  },
  {
   "cell_type": "code",
   "execution_count": 20,
   "id": "75192477",
   "metadata": {
    "execution": {
     "iopub.execute_input": "2021-10-15T13:01:09.661683Z",
     "iopub.status.busy": "2021-10-15T13:01:09.625876Z",
     "iopub.status.idle": "2021-10-15T13:01:15.386151Z",
     "shell.execute_reply": "2021-10-15T13:01:15.385673Z",
     "shell.execute_reply.started": "2021-10-15T12:47:45.278732Z"
    },
    "papermill": {
     "duration": 5.812943,
     "end_time": "2021-10-15T13:01:15.386279",
     "exception": false,
     "start_time": "2021-10-15T13:01:09.573336",
     "status": "completed"
    },
    "tags": []
   },
   "outputs": [],
   "source": [
    "trainset = rating_data.build_full_trainset()"
   ]
  },
  {
   "cell_type": "code",
   "execution_count": 21,
   "id": "309fdc14",
   "metadata": {
    "execution": {
     "iopub.execute_input": "2021-10-15T13:01:15.479282Z",
     "iopub.status.busy": "2021-10-15T13:01:15.473954Z",
     "iopub.status.idle": "2021-10-15T13:10:47.214863Z",
     "shell.execute_reply": "2021-10-15T13:10:47.215340Z",
     "shell.execute_reply.started": "2021-10-15T12:47:50.642726Z"
    },
    "papermill": {
     "duration": 571.804234,
     "end_time": "2021-10-15T13:10:47.215502",
     "exception": false,
     "start_time": "2021-10-15T13:01:15.411268",
     "status": "completed"
    },
    "scrolled": true,
    "tags": []
   },
   "outputs": [
    {
     "data": {
      "text/plain": [
       "<surprise.prediction_algorithms.matrix_factorization.SVD at 0x7f6f82db1190>"
      ]
     },
     "execution_count": 21,
     "metadata": {},
     "output_type": "execute_result"
    }
   ],
   "source": [
    "svd.fit(trainset)"
   ]
  },
  {
   "cell_type": "code",
   "execution_count": 22,
   "id": "11948329",
   "metadata": {
    "execution": {
     "iopub.execute_input": "2021-10-15T13:10:47.272079Z",
     "iopub.status.busy": "2021-10-15T13:10:47.271388Z",
     "iopub.status.idle": "2021-10-15T13:10:47.274143Z",
     "shell.execute_reply": "2021-10-15T13:10:47.274570Z",
     "shell.execute_reply.started": "2021-10-15T12:57:19.149108Z"
    },
    "papermill": {
     "duration": 0.033855,
     "end_time": "2021-10-15T13:10:47.274722",
     "exception": false,
     "start_time": "2021-10-15T13:10:47.240867",
     "status": "completed"
    },
    "tags": []
   },
   "outputs": [
    {
     "data": {
      "text/plain": [
       "Prediction(uid=1, iid=356, r_ui=5, est=5, details={'was_impossible': False})"
      ]
     },
     "execution_count": 22,
     "metadata": {},
     "output_type": "execute_result"
    }
   ],
   "source": [
    "svd.predict(1, 356, 5)"
   ]
  },
  {
   "cell_type": "markdown",
   "id": "01f192dc",
   "metadata": {
    "papermill": {
     "duration": 0.025491,
     "end_time": "2021-10-15T13:10:47.328728",
     "exception": false,
     "start_time": "2021-10-15T13:10:47.303237",
     "status": "completed"
    },
    "tags": []
   },
   "source": [
    "## Hybrid Filtering"
   ]
  },
  {
   "cell_type": "code",
   "execution_count": 23,
   "id": "d10b1a97",
   "metadata": {
    "execution": {
     "iopub.execute_input": "2021-10-15T13:10:47.395403Z",
     "iopub.status.busy": "2021-10-15T13:10:47.394536Z",
     "iopub.status.idle": "2021-10-15T13:10:47.403649Z",
     "shell.execute_reply": "2021-10-15T13:10:47.404078Z",
     "shell.execute_reply.started": "2021-10-15T12:57:19.158024Z"
    },
    "papermill": {
     "duration": 0.049134,
     "end_time": "2021-10-15T13:10:47.404205",
     "exception": false,
     "start_time": "2021-10-15T13:10:47.355071",
     "status": "completed"
    },
    "tags": []
   },
   "outputs": [],
   "source": [
    "id_map = anime_df[['MAL_ID']]\n",
    "id_map['id'] = list(range(1,anime_df.shape[0]+1,1))\n",
    "id_map = id_map.merge(anime_df[['MAL_ID', 'Name']], on='MAL_ID').set_index('Name')"
   ]
  },
  {
   "cell_type": "code",
   "execution_count": 24,
   "id": "0a3f9c88",
   "metadata": {
    "execution": {
     "iopub.execute_input": "2021-10-15T13:10:47.458401Z",
     "iopub.status.busy": "2021-10-15T13:10:47.457619Z",
     "iopub.status.idle": "2021-10-15T13:10:47.462584Z",
     "shell.execute_reply": "2021-10-15T13:10:47.462114Z",
     "shell.execute_reply.started": "2021-10-15T12:57:19.183564Z"
    },
    "papermill": {
     "duration": 0.033354,
     "end_time": "2021-10-15T13:10:47.462706",
     "exception": false,
     "start_time": "2021-10-15T13:10:47.429352",
     "status": "completed"
    },
    "tags": []
   },
   "outputs": [],
   "source": [
    "indices_map = id_map.set_index('id')"
   ]
  },
  {
   "cell_type": "code",
   "execution_count": 25,
   "id": "79285b7e",
   "metadata": {
    "execution": {
     "iopub.execute_input": "2021-10-15T13:10:47.525905Z",
     "iopub.status.busy": "2021-10-15T13:10:47.525182Z",
     "iopub.status.idle": "2021-10-15T13:10:47.527144Z",
     "shell.execute_reply": "2021-10-15T13:10:47.527542Z",
     "shell.execute_reply.started": "2021-10-15T12:57:19.189919Z"
    },
    "papermill": {
     "duration": 0.039144,
     "end_time": "2021-10-15T13:10:47.527658",
     "exception": false,
     "start_time": "2021-10-15T13:10:47.488514",
     "status": "completed"
    },
    "tags": []
   },
   "outputs": [],
   "source": [
    "def hybrid_recommendations(user_id,title):\n",
    "    idx = indices[title]\n",
    "    sim_scores = list(enumerate(cosine_sim[idx]))\n",
    "    sim_scores = sorted(sim_scores, key=lambda x: x[1], reverse=True)\n",
    "    sim_scores = sim_scores[1:31]    \n",
    "    anime_indices = [i[0] for i in sim_scores]\n",
    "            \n",
    "    anime_lst = anime_df.iloc[anime_indices][['MAL_ID','Name', 'Members', 'Score','Genres']]\n",
    "    favorite_count = anime_lst[anime_lst['Members'].notnull()]['Members'].astype('int')\n",
    "    score_avg = anime_lst[anime_lst['Score'].notnull()]['Score'].astype('float')\n",
    "    C = score_avg.mean()\n",
    "    m = favorite_count.quantile(0.60)\n",
    "    qualified = anime_lst[(anime_lst['Members'] >= m) & (anime_lst['Members'].notnull()) & (anime_lst['Score'].notnull())]    \n",
    "    qualified['Members'] = qualified['Members'].astype('int')\n",
    "    qualified['Score'] = qualified['Score'].astype('float')\n",
    "    def weighted_rating(x):\n",
    "        v = x['Members']\n",
    "        R = x['Score']\n",
    "        return (v/(v+m) * R) + (m/(m+v) * C)   \n",
    "    \n",
    "    qualified['wr'] = qualified.apply(weighted_rating, axis=1)\n",
    "    qualified = qualified.sort_values('wr', ascending=False).head(30)    \n",
    "    \n",
    "    qualified[['id']] = list(range(1,qualified.shape[0]+1,1))  \n",
    "    qualified['est'] = qualified['id'].apply(lambda x: svd.predict(user_id, indices_map.loc[x]['MAL_ID']).est)\n",
    "    qualified = qualified.sort_values('est', ascending=False)\n",
    "    result = qualified[['MAL_ID','Name','Genres','Score']]\n",
    "    return result.head(10)    "
   ]
  },
  {
   "cell_type": "code",
   "execution_count": 26,
   "id": "fd5bb59e",
   "metadata": {
    "execution": {
     "iopub.execute_input": "2021-10-15T13:10:47.596903Z",
     "iopub.status.busy": "2021-10-15T13:10:47.596123Z",
     "iopub.status.idle": "2021-10-15T13:10:47.615150Z",
     "shell.execute_reply": "2021-10-15T13:10:47.615561Z",
     "shell.execute_reply.started": "2021-10-15T12:57:19.245988Z"
    },
    "papermill": {
     "duration": 0.061857,
     "end_time": "2021-10-15T13:10:47.615702",
     "exception": false,
     "start_time": "2021-10-15T13:10:47.553845",
     "status": "completed"
    },
    "tags": []
   },
   "outputs": [
    {
     "data": {
      "text/html": [
       "<div>\n",
       "<style scoped>\n",
       "    .dataframe tbody tr th:only-of-type {\n",
       "        vertical-align: middle;\n",
       "    }\n",
       "\n",
       "    .dataframe tbody tr th {\n",
       "        vertical-align: top;\n",
       "    }\n",
       "\n",
       "    .dataframe thead th {\n",
       "        text-align: right;\n",
       "    }\n",
       "</style>\n",
       "<table border=\"1\" class=\"dataframe\">\n",
       "  <thead>\n",
       "    <tr style=\"text-align: right;\">\n",
       "      <th></th>\n",
       "      <th>MAL_ID</th>\n",
       "      <th>Name</th>\n",
       "      <th>Genres</th>\n",
       "      <th>Score</th>\n",
       "    </tr>\n",
       "  </thead>\n",
       "  <tbody>\n",
       "    <tr>\n",
       "      <th>4270</th>\n",
       "      <td>7785</td>\n",
       "      <td>Yojouhan Shinwa Taikei</td>\n",
       "      <td>Mystery, Comedy, Psychological, Romance</td>\n",
       "      <td>8.61</td>\n",
       "    </tr>\n",
       "    <tr>\n",
       "      <th>9226</th>\n",
       "      <td>35848</td>\n",
       "      <td>Promare</td>\n",
       "      <td>Action, Mecha, Sci-Fi, Super Power</td>\n",
       "      <td>8.08</td>\n",
       "    </tr>\n",
       "    <tr>\n",
       "      <th>3037</th>\n",
       "      <td>4106</td>\n",
       "      <td>Trigun: Badlands Rumble</td>\n",
       "      <td>Action, Adventure, Comedy, Drama, Sci-Fi, Shounen</td>\n",
       "      <td>7.97</td>\n",
       "    </tr>\n",
       "    <tr>\n",
       "      <th>5700</th>\n",
       "      <td>14345</td>\n",
       "      <td>Btooom!</td>\n",
       "      <td>Action, Sci-Fi, Psychological, Seinen</td>\n",
       "      <td>7.39</td>\n",
       "    </tr>\n",
       "    <tr>\n",
       "      <th>181</th>\n",
       "      <td>206</td>\n",
       "      <td>Lodoss-tou Senki: Eiyuu Kishi Den</td>\n",
       "      <td>Action, Adventure, Drama, Magic, Romance, Fantasy</td>\n",
       "      <td>7.16</td>\n",
       "    </tr>\n",
       "    <tr>\n",
       "      <th>349</th>\n",
       "      <td>384</td>\n",
       "      <td>Gantz</td>\n",
       "      <td>Action, Sci-Fi, Horror, Psychological, Superna...</td>\n",
       "      <td>7.05</td>\n",
       "    </tr>\n",
       "    <tr>\n",
       "      <th>658</th>\n",
       "      <td>732</td>\n",
       "      <td>Vampire Hunter D</td>\n",
       "      <td>Action, Sci-Fi, Horror, Supernatural, Vampire</td>\n",
       "      <td>7.08</td>\n",
       "    </tr>\n",
       "    <tr>\n",
       "      <th>858</th>\n",
       "      <td>976</td>\n",
       "      <td>Yokohama Kaidashi Kikou: Quiet Country Cafe</td>\n",
       "      <td>Sci-Fi, Slice of Life, Seinen</td>\n",
       "      <td>7.16</td>\n",
       "    </tr>\n",
       "    <tr>\n",
       "      <th>1692</th>\n",
       "      <td>1951</td>\n",
       "      <td>Manie-Manie: Meikyuu Monogatari</td>\n",
       "      <td>Adventure, Fantasy, Horror, Sci-Fi, Supernatural</td>\n",
       "      <td>7.05</td>\n",
       "    </tr>\n",
       "    <tr>\n",
       "      <th>9536</th>\n",
       "      <td>36816</td>\n",
       "      <td>Godzilla 2: Kessen Kidou Zoushoku Toshi</td>\n",
       "      <td>Action, Adventure, Sci-Fi</td>\n",
       "      <td>6.68</td>\n",
       "    </tr>\n",
       "  </tbody>\n",
       "</table>\n",
       "</div>"
      ],
      "text/plain": [
       "      MAL_ID                                         Name  \\\n",
       "4270    7785                       Yojouhan Shinwa Taikei   \n",
       "9226   35848                                      Promare   \n",
       "3037    4106                      Trigun: Badlands Rumble   \n",
       "5700   14345                                      Btooom!   \n",
       "181      206            Lodoss-tou Senki: Eiyuu Kishi Den   \n",
       "349      384                                        Gantz   \n",
       "658      732                             Vampire Hunter D   \n",
       "858      976  Yokohama Kaidashi Kikou: Quiet Country Cafe   \n",
       "1692    1951              Manie-Manie: Meikyuu Monogatari   \n",
       "9536   36816      Godzilla 2: Kessen Kidou Zoushoku Toshi   \n",
       "\n",
       "                                                 Genres  Score  \n",
       "4270            Mystery, Comedy, Psychological, Romance   8.61  \n",
       "9226                 Action, Mecha, Sci-Fi, Super Power   8.08  \n",
       "3037  Action, Adventure, Comedy, Drama, Sci-Fi, Shounen   7.97  \n",
       "5700              Action, Sci-Fi, Psychological, Seinen   7.39  \n",
       "181   Action, Adventure, Drama, Magic, Romance, Fantasy   7.16  \n",
       "349   Action, Sci-Fi, Horror, Psychological, Superna...   7.05  \n",
       "658       Action, Sci-Fi, Horror, Supernatural, Vampire   7.08  \n",
       "858                       Sci-Fi, Slice of Life, Seinen   7.16  \n",
       "1692   Adventure, Fantasy, Horror, Sci-Fi, Supernatural   7.05  \n",
       "9536                          Action, Adventure, Sci-Fi   6.68  "
      ]
     },
     "execution_count": 26,
     "metadata": {},
     "output_type": "execute_result"
    }
   ],
   "source": [
    "hybrid_recommendations(8, 'Trigun')"
   ]
  }
 ],
 "metadata": {
  "kernelspec": {
   "display_name": "Python 3",
   "language": "python",
   "name": "python3"
  },
  "language_info": {
   "codemirror_mode": {
    "name": "ipython",
    "version": 3
   },
   "file_extension": ".py",
   "mimetype": "text/x-python",
   "name": "python",
   "nbconvert_exporter": "python",
   "pygments_lexer": "ipython3",
   "version": "3.8.8"
  },
  "papermill": {
   "default_parameters": {},
   "duration": 614.541949,
   "end_time": "2021-10-15T13:10:50.255039",
   "environment_variables": {},
   "exception": null,
   "input_path": "__notebook__.ipynb",
   "output_path": "__notebook__.ipynb",
   "parameters": {},
   "start_time": "2021-10-15T13:00:35.713090",
   "version": "2.3.3"
  }
 },
 "nbformat": 4,
 "nbformat_minor": 5
}
